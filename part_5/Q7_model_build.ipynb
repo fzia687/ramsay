{
 "cells": [
  {
   "cell_type": "markdown",
   "metadata": {},
   "source": [
    "# Q7. Predictive model build\n",
    "Based on the choice to build a feature for 'Length of Stay', lets now build a model to predict patient length of stay. Details of this model:\n",
    "\n",
    "### Purpose: \n",
    "To predict the length of hospital stay for patients upon admission. This will help Ramsay better allocate resources and manage bed availability, particularly for high-cost DRGs identified earlier. By anticipating patient needs, Ramsay can improve operational efficiency and patient care quality.\n",
    "\n",
    "### Model Choice\n",
    "Gradient Boosting Machine (GBM)\n",
    "\n",
    "### Preprocessing Steps:\n",
    "- Data Cleaning:\n",
    "Handle missing values: Impute or remove missing data in relevant columns.\n",
    "Convert categorical variables to numerical using one-hot encoding (e.g., PrincipalDiagnosis, Sex, UrgencyOfAdmission).\n",
    "Ensure all date columns are converted to datetime objects.\n",
    "\n",
    "- Feature Engineering:\n",
    "Calculate TotalCharges as discussed.\n",
    "Extract features from date columns (e.g., admission month, day of week).\n",
    "Aggregate patient history features if available (e.g., past admissions, average stay length).\n",
    "\n",
    "- Train-Test Split:\n",
    "Split data into training and testing sets (e.g., 80% train, 20% test).\n",
    "\n",
    "- Model Training:\n",
    "Use a Gradient Boosting algorithm (e.g., XGBoost, LightGBM) to train the model.\n",
    "\n",
    "### Evaluation Metrics:\n",
    "- Mean Absolute Error (MAE): Measure the average magnitude of errors in predictions. Useful for understanding overall prediction accuracy.\n",
    "- Root Mean Squared Error (RMSE): Gives higher weight to larger errors and helps identify outliers.\n",
    "- R² (Coefficient of Determination): Indicates how well the predicted values explain the variance in the actual values."
   ]
  },
  {
   "cell_type": "code",
   "execution_count": 7,
   "metadata": {},
   "outputs": [],
   "source": [
    "import pandas as pd\n",
    "\n",
    "# Ingest raw data\n",
    "input_filepath = \"../data/Data Insights - Synthetic Dataset.csv\"\n",
    "df = pd.read_csv(input_filepath)"
   ]
  },
  {
   "cell_type": "markdown",
   "metadata": {},
   "source": [
    "Example of how to build this GBM model"
   ]
  },
  {
   "cell_type": "code",
   "execution_count": 12,
   "metadata": {},
   "outputs": [
    {
     "name": "stdout",
     "output_type": "stream",
     "text": [
      "MAE: 7.492799604059682\n",
      "RMSE: 8.639798561258903\n",
      "R²: -0.000232219904684694\n"
     ]
    },
    {
     "name": "stderr",
     "output_type": "stream",
     "text": [
      "c:\\Users\\Faisa\\Documents\\GitHub\\ramsay\\.venv\\Lib\\site-packages\\sklearn\\metrics\\_regression.py:492: FutureWarning: 'squared' is deprecated in version 1.4 and will be removed in 1.6. To calculate the root mean squared error, use the function'root_mean_squared_error'.\n",
      "  warnings.warn(\n"
     ]
    }
   ],
   "source": [
    "# Example of the model build\n",
    "\n",
    "# Import libraries\n",
    "import pandas as pd\n",
    "from sklearn.model_selection import train_test_split\n",
    "from sklearn.preprocessing import StandardScaler, OneHotEncoder\n",
    "from sklearn.compose import ColumnTransformer\n",
    "from sklearn.pipeline import Pipeline\n",
    "from sklearn.ensemble import GradientBoostingRegressor\n",
    "from sklearn.metrics import mean_absolute_error, mean_squared_error, r2_score\n",
    "\n",
    "# Convert charge columns to numeric types\n",
    "charge_columns = [\n",
    "    'AccommodationCharge', 'CCU_Charges', 'ICU_Charge', \n",
    "    'TheatreCharge', 'PharmacyCharge', 'ProsthesisCharge', \n",
    "    'OtherCharges', 'BundledCharges'\n",
    "]\n",
    "for col in charge_columns:\n",
    "    df[col] = pd.to_numeric(df[col], errors='coerce')\n",
    "\n",
    "# Create TotalCharges column\n",
    "df['TotalCharges'] = df[charge_columns].sum(axis=1)\n",
    "\n",
    "# Convert 'AdmissionDate' and 'SeparationDate' to datetime\n",
    "df['AdmissionDate'] = pd.to_datetime(df['AdmissionDate'], format='%d/%m/%Y')\n",
    "df['SeparationDate'] = pd.to_datetime(df['SeparationDate'], format='%d/%m/%Y')\n",
    "\n",
    "# Create LengthOfStay column\n",
    "df['LengthOfStay'] = (df['SeparationDate'] - df['AdmissionDate']).dt.days\n",
    "\n",
    "# Extract additional features\n",
    "df['AdmissionMonth'] = df['AdmissionDate'].dt.month\n",
    "df['DayOfWeek'] = df['AdmissionDate'].dt.dayofweek\n",
    "\n",
    "# Split data\n",
    "X = df[['PrincipalDiagnosis', 'Sex', 'UrgencyOfAdmission', 'TotalCharges', 'AdmissionMonth', 'DayOfWeek']]\n",
    "y = df['LengthOfStay']\n",
    "X_train, X_test, y_train, y_test = train_test_split(X, y, test_size=0.2, random_state=42)\n",
    "\n",
    "# Preprocessing pipeline\n",
    "preprocessor = ColumnTransformer(\n",
    "    transformers=[\n",
    "        ('num', StandardScaler(), ['TotalCharges', 'AdmissionMonth', 'DayOfWeek']),\n",
    "        ('cat', OneHotEncoder(handle_unknown='ignore'), ['PrincipalDiagnosis', 'Sex', 'UrgencyOfAdmission'])\n",
    "    ])\n",
    "\n",
    "# Define and train model\n",
    "model = Pipeline(steps=[\n",
    "    ('preprocessor', preprocessor),\n",
    "    ('regressor', GradientBoostingRegressor())\n",
    "])\n",
    "model.fit(X_train, y_train)\n",
    "\n",
    "# Evaluate model\n",
    "y_pred = model.predict(X_test)\n",
    "print(f'MAE: {mean_absolute_error(y_test, y_pred)}')\n",
    "print(f'RMSE: {mean_squared_error(y_test, y_pred, squared=False)}')\n",
    "print(f'R²: {r2_score(y_test, y_pred)}')\n"
   ]
  }
 ],
 "metadata": {
  "kernelspec": {
   "display_name": ".venv",
   "language": "python",
   "name": "python3"
  },
  "language_info": {
   "codemirror_mode": {
    "name": "ipython",
    "version": 3
   },
   "file_extension": ".py",
   "mimetype": "text/x-python",
   "name": "python",
   "nbconvert_exporter": "python",
   "pygments_lexer": "ipython3",
   "version": "3.13.0"
  }
 },
 "nbformat": 4,
 "nbformat_minor": 2
}
