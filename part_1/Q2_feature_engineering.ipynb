{
 "cells": [
  {
   "cell_type": "markdown",
   "metadata": {},
   "source": [
    "# Feature engineering\n",
    "\n",
    "## Introduction\n",
    "This notebook outlines the methodology for building a feature out of the provided data (Length of Stay).\n",
    "\n",
    "### Potential features\n",
    "Given the data, there are a number of features that could be built, including:\n",
    "\n",
    "#### Readmission Risk: \n",
    "Flag patients who were readmitted within 28 days (Readmission28Days). This could be critical in understanding patterns leading to frequent readmissions and for developing preventive strategies.\n",
    "\n",
    "#### Emergency Admission Indicator\n",
    "A binary feature indicating whether the admission was an emergency (UrgencyOfAdmission). This could help in predicting resource needs and managing emergency room workloads.\n",
    "\n",
    "#### Total Charges\n",
    "Sum up all charges (AccommodationCharge, CCU_Charges, ICU_Charge, etc.) to get a feature representing the total cost of each patient's stay. Useful for cost analysis and identifying high-cost patients.\n",
    "\n",
    "#### Diagnosis and Procedure Count\n",
    "Count the number of diagnoses and procedures (PrincipalDiagnosis, Diagnosis2, etc.). This feature helps in understanding the complexity and severity of each case.\n",
    "\n",
    "#### Length of Stay\n",
    "The duration between AdmissionDate and SeparationDate. "
   ]
  },
  {
   "cell_type": "code",
   "execution_count": 3,
   "metadata": {},
   "outputs": [],
   "source": [
    "import pandas as pd\n",
    "\n",
    "# Ingest raw data\n",
    "input_filepath = \"../data/Data Insights - Synthetic Dataset.csv\"\n",
    "input_df = pd.read_csv(input_filepath)"
   ]
  },
  {
   "cell_type": "code",
   "execution_count": 4,
   "metadata": {},
   "outputs": [
    {
     "name": "stdout",
     "output_type": "stream",
     "text": [
      "  AdmissionDate SeparationDate  LengthOfStay\n",
      "0    2024-07-22     2024-07-29             7\n",
      "1    2023-10-05     2023-11-03            29\n",
      "2    2024-02-02     2024-02-08             6\n",
      "3    2022-08-02     2022-08-27            25\n",
      "4    2022-08-30     2022-09-07             8\n"
     ]
    }
   ],
   "source": [
    "import pandas as pd\n",
    "\n",
    "# Assuming you have already loaded the dataframe as input_df\n",
    "input_df['AdmissionDate'] = pd.to_datetime(input_df['AdmissionDate'], format='%d/%m/%Y')\n",
    "input_df['SeparationDate'] = pd.to_datetime(input_df['SeparationDate'], format='%d/%m/%Y')\n",
    "\n",
    "# Create LengthOfStay feature\n",
    "input_df['LengthOfStay'] = (input_df['SeparationDate'] - input_df['AdmissionDate']).dt.days\n",
    "\n",
    "print(input_df[['AdmissionDate', 'SeparationDate', 'LengthOfStay']].head())"
   ]
  },
  {
   "cell_type": "markdown",
   "metadata": {},
   "source": [
    "# Conclusion\n",
    "While the data allows for the creation of many useful features, the feature 'Length of Stay' was selected for the purposes of this excercise as it's an essential metric in healthcare analytics because it directly influences resource allocation, patient outcomes, and cost management. Shorter stays might indicate better efficiency or less severe cases, while longer stays might highlight more severe conditions or potential complications. These insights are invaluable in allocating resources and identifying areas of improvement."
   ]
  }
 ],
 "metadata": {
  "kernelspec": {
   "display_name": ".venv",
   "language": "python",
   "name": "python3"
  },
  "language_info": {
   "codemirror_mode": {
    "name": "ipython",
    "version": 3
   },
   "file_extension": ".py",
   "mimetype": "text/x-python",
   "name": "python",
   "nbconvert_exporter": "python",
   "pygments_lexer": "ipython3",
   "version": "3.13.0"
  }
 },
 "nbformat": 4,
 "nbformat_minor": 2
}
