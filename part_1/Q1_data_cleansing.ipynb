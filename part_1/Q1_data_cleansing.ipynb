{
 "cells": [
  {
   "cell_type": "markdown",
   "metadata": {},
   "source": [
    "# Data Cleaning Report\n",
    "\n",
    "## Introduction\n",
    "This notebook outlines the data issues found in the healthcare dataset and the steps taken to clean and preprocess the data.\n",
    "\n",
    "## 1. Ingest Data"
   ]
  },
  {
   "cell_type": "code",
   "execution_count": null,
   "metadata": {},
   "outputs": [],
   "source": [
    "import pandas as pd\n",
    "\n",
    "# Ingest raw data\n",
    "input_filepath = \"../data/Data Insights - Synthetic Dataset.csv\"\n",
    "input_df = pd.read_csv(input_filepath)\n",
    "print(input_df.head())  # Display the first few rows"
   ]
  },
  {
   "cell_type": "markdown",
   "metadata": {},
   "source": [
    "## 2. Data Issues\n",
    "Reviewing the data, a number of issues are evident. \n",
    "\n",
    "### 2.1 Age discrepancy\n",
    "Issue: For some patient entries we find that the calculated age (Admission date - Date of Birth) is not equal to the value in the Age column.\n",
    "\n",
    "Solution: Create a column for the calculated age, and flag the records where calculated_age != Age. Also identify where this Age value is being sourced from and understand why this discrepancy is present (old datasource? manual error as patients enter their Age and also their DoB?).\n",
    "\n",
    "### 2.2 Pharmacy Charge\n",
    "Issue: The PharmacyCharge column appears to be incorrect, as the values in it are far too large to represent sensible dollar amounts (ie. 1.66E+72). Comparing against the range of values typically found in the other charge related columns confirms that this column is anomolous. There are also some string values in this column (eg. \"ERROR\") that could cause issues down the line if we perform numerical operations on this column.\n",
    "\n",
    "Solution: Trace back the source of the data in this column and try identify where this value is coming from. Understand which systems/stakeholders this data is being sourced from, and clarify if these values are indeed correct or if there is some sort of error as we suspect. \n",
    "From a technical perspective, we can change the values in this column to be of type numeric. However while this would allow us to perform numeric calculations using this column, we still should refrain from doing so until we clarify exactly what the values represent and apply any data fixes.\n",
    "\n",
    "### Other issues\n",
    "A number of other issues are also present in the data:\n",
    "##Issue\n",
    "Post codes don't map to any Australian suburbs (eg.'58698'). NOTE: This could be a function of the synthetic dataset.\n",
    "Solution: If the same issue was found in the real dataset, we would trace back the source of this data and see why the post codes are incorrect (are patients filling them out incorrectly? Is there an issue in the ETL for this data?). Also try find other sources of truth for postcode (e.g. a 'home address' field)\n",
    "\n",
    "##Issue\n",
    "Blanks in charge related columns. It is unclear if these should be assumed to be 0 or if they are due to missing data\n",
    "Solution: As part of the ETL for this data, we should clearly mark which entries are truly '0' values and which are missing values\n",
    "\n",
    "##Issue\n",
    "Readmission28days column has 'Yes' and 'No' values, however vast majority of entries are blank. This suggests the data is incomplete."
   ]
  },
  {
   "cell_type": "markdown",
   "metadata": {},
   "source": [
    "# 3. Script to cleanse file\n",
    "\n",
    "To address some of the issues above, I have written a small script that computes the calculated age of each patient and compares it to the Age value, flagging any discrepancies.\n",
    "The script also converts the PharmacyCharge column into type numeric, addressing the issue of string vals in the column. The magnitude of the values in this column are still suspicious and require further investigation."
   ]
  },
  {
   "cell_type": "code",
   "execution_count": null,
   "metadata": {},
   "outputs": [],
   "source": [
    "import pandas as pd\n",
    "import numpy as np\n",
    "\n",
    "def comprehensive_clean(df):\n",
    "    \"\"\"\n",
    "    Cleansing of healthcare dataset addressing multiple quality issues\n",
    "    \"\"\"\n",
    "    # Create copy to avoid modifying original\n",
    "    df_clean = df.copy()\n",
    "    \n",
    "    # 1. Fix Age calculation\n",
    "    df_clean['DateOfBirth'] = pd.to_datetime(df_clean['DateOfBirth'], format='%d/%m/%Y')\n",
    "    df_clean['AdmissionDate'] = pd.to_datetime(df_clean['AdmissionDate'], format='%d/%m/%Y')\n",
    "    df_clean['calculated_age'] = (df_clean['AdmissionDate'].dt.year - df_clean['DateOfBirth'].dt.year)\n",
    "    \n",
    "    # Flag age discrepancies\n",
    "    df_clean['age_discrepancy'] = abs(df_clean['calculated_age'] - df_clean['Age']) > 1\n",
    "\n",
    "    # 2. Address PharmacyCharge data issue\n",
    "    # Convert charge columns to numeric types (float)\n",
    "    df_clean['PharmacyCharge'] = pd.to_numeric(df_clean['PharmacyCharge'], errors='coerce')                      \n",
    "    # Replace empty strings with NaN\n",
    "    df_clean['PharmacyCharge'] = df_clean['PharmacyCharge'].replace('', np.nan)\n",
    "\n",
    "    df_clean.to_csv('../data/cleansed_data.csv', index=False)\n",
    "\n",
    "    return(df_clean)\n",
    "\n",
    "# Step 2. Run cleaning function over data\n",
    "cleansed_df = comprehensive_clean(input_df)\n",
    "print(cleansed_df.head()) \n"
   ]
  },
  {
   "cell_type": "markdown",
   "metadata": {},
   "source": [
    "# 4. Summary\n"
   ]
  },
  {
   "cell_type": "markdown",
   "metadata": {},
   "source": [
    "After applying the data cleansing steps outlined above, we can calculate the prevalence of each data issue.\n",
    "\n",
    "## Age discrepancy\n",
    "16.4% of total entries have been flagged as having age discrepancies. This suggests it is a commonly occurring issue and should be investigated. In the short-term, we may choose to omit these entries from any further modelling/training until we fix it or gain confidence in the accuracy of the data.\n",
    "\n",
    "## PharmacyCharge var type\n",
    "44% of total entries had PharmacyCharge type string. These have all been converted to numeric type now. It would be wise to look upstream to the ETL process and see if we can define the var type at point of ingestion to catch any issues earlier in the data pipeline.\n",
    "The issue of the magnitude of these values is still ongoing. Further investigation is needed with the potential for engaging other areas of the data ingestion team in order to understand where this data is coming from and why the values are so large.\n",
    "\n",
    "## Further QA works\n",
    "Having identified these issues and any others (ie. blank charge values), it would be valuable to build a 'data quality score' and compute this value for each entry in our data table. This would give us clarity on the quality of our data, allow us to monitor it over time, identify any particular time periods/changes that result in worsened quality, and filter the data to only use high quality entries where appropriate (ie. for training models)."
   ]
  },
  {
   "cell_type": "code",
   "execution_count": null,
   "metadata": {},
   "outputs": [],
   "source": [
    "# Calculate the proportion of 'age_discrepancy' entries that are True\n",
    "age_discrepancy_proportion = cleansed_df['age_discrepancy'].mean()\n",
    "\n",
    "raw_pharmacy_charge_str_proportion = (input_df['PharmacyCharge'].apply(lambda x: isinstance(x, str))).mean()\n",
    "cleansed_pharmacy_charge_str_proportion = (cleansed_df['PharmacyCharge'].apply(lambda x: isinstance(x, str))).mean()\n",
    "\n",
    "print(f\"Proportion of 'age_discrepancy' that are True: {age_discrepancy_proportion:.2%}\")\n",
    "print(f\"Proportion of 'PharmacyCharge' entries that are of type str: {raw_pharmacy_charge_str_proportion:.2%}\")\n",
    "print(f\"Proportion of 'PharmacyCharge' entries that are of type str: {cleansed_pharmacy_charge_str_proportion:.2%}\")"
   ]
  }
 ],
 "metadata": {
  "kernelspec": {
   "display_name": ".venv",
   "language": "python",
   "name": "python3"
  },
  "language_info": {
   "codemirror_mode": {
    "name": "ipython",
    "version": 3
   },
   "file_extension": ".py",
   "mimetype": "text/x-python",
   "name": "python",
   "nbconvert_exporter": "python",
   "pygments_lexer": "ipython3",
   "version": "3.13.0"
  }
 },
 "nbformat": 4,
 "nbformat_minor": 2
}
